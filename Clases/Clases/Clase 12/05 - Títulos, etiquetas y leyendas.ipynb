{
 "cells": [
  {
   "cell_type": "markdown",
   "id": "a976b0a2",
   "metadata": {},
   "source": [
    "# Títulos, etiquetas y leyendas\n",
    "\n",
    "Siguiendo con el gráfico de ahorros veamos como podemos personalizarlo:"
   ]
  },
  {
   "cell_type": "code",
   "execution_count": 1,
   "id": "2974fc03",
   "metadata": {},
   "outputs": [
    {
     "data": {
      "image/png": "[encoded data removed]",
      "text/plain": [
       "<Figure size 640x480 with 1 Axes>"
      ]
     },
     "metadata": {},
     "output_type": "display_data"
    }
   ],
   "source": [
    "import numpy as np\n",
    "import matplotlib.pyplot as plt\n",
    "\n",
    "ahorros = np.random.randint(100, size=[6])\n",
    "meses = ['Enero','Febrero','Marzo','Abril','Mayo','Junio']\n",
    "mapeado = range(len(meses))\n",
    "\n",
    "plt.plot(ahorros)\n",
    "plt.show() "
   ]
  },
  {
   "cell_type": "markdown",
   "id": "4d6a57b4",
   "metadata": {},
   "source": [
    "Podemos añadir al gráfico el titulo **Ahorros del primer semestre** y unas etiquetas para los ejes X e Y con **Meses** y **Cantidad en €** respectivamente:"
   ]
  },
  {
   "cell_type": "code",
   "execution_count": null,
   "id": "8ffcacce",
   "metadata": {},
   "outputs": [],
   "source": [
    "plt.plot(ahorros)                         # Añadimos el gráfico\n",
    "plt.xticks(mapeado, meses)                # Mapeamos los valores horizontales\n",
    "plt.xlim(1, 4)                            # Configuramos el límite horizontal\n",
    "plt.title(\"Ahorros del primer semestre\")  # Configuramos el título\n",
    "plt.xlabel(\"Meses\")                       # Configuramos la etiqueta del eje X\n",
    "plt.ylabel(\"Cantidad en $\")               # Configuramos la etiqueta del eje Y\n",
    "plt.show()                                # Finalmente lo mostramos"
   ]
  },
  {
   "cell_type": "markdown",
   "id": "8170b3a7",
   "metadata": {},
   "source": [
    "Otro elemento informativo que podemos añadir son las leyendas `plt.legend`.\n",
    "\n",
    "Podemos elegir una localización a partir de las distintas opciones que nos indican en [la documentación de matplotlib](https://matplotlib.org/stable/api/_as_gen/matplotlib.pyplot.legend.html):\n",
    "\n",
    "- 0: `best`\n",
    "- 1: `upper right`\n",
    "- 2: `upper left`\n",
    "- 3: `lower left`\n",
    "- 4: `lower right`\n",
    "- 5: `right`\n",
    "- 6: `center left`\n",
    "- 7: `center right`\n",
    "- 8: `lower center`\n",
    "- 9: `upper center`\n",
    "- 10: `center`\n",
    "\n",
    "Por defecto se usa la opción 0 para detectar automáticamente el mejor sitio donde poner la leyenda:"
   ]
  },
  {
   "cell_type": "code",
   "execution_count": null,
   "id": "775ecb06",
   "metadata": {},
   "outputs": [],
   "source": [
    "plt.plot(ahorros)                         # Añadimos el gráfico\n",
    "plt.xticks(mapeado, meses)                # Mapeamos los valores horizontales\n",
    "plt.xlim(1, 4)                            # Configuramos el límite horizontal\n",
    "plt.title(\"Ahorros del primer semestre\")  # Configuramos el título\n",
    "plt.xlabel(\"Meses\")                       # Configuramos la etiqueta del eje X\n",
    "plt.ylabel(\"Cantidad en $\")               # Configuramos la etiqueta del eje Y\n",
    "plt.legend(loc=4)                         # Mostramos la leyenda\n",
    "plt.show()                                # Finalmente lo mostramos"
   ]
  },
  {
   "cell_type": "markdown",
   "id": "d1c58f06",
   "metadata": {},
   "source": [
    "Aparece un cuadradito o advertencia pero no muestra nada, eso es porque tenemos que configurar el texto del gráfico, algo que definiremos pasando una `label` a `plot` o una `list` a `legend`:"
   ]
  },
  {
   "cell_type": "code",
   "execution_count": null,
   "id": "105962fb",
   "metadata": {},
   "outputs": [],
   "source": [
    "plt.plot(ahorros, label=\"Evolución\")      # Añadimos el gráfico con una label\n",
    "plt.xticks(mapeado, meses)                # Mapeamos los valores horizontales\n",
    "plt.xlim(1, 4)                            # Configuramos el límite horizontal\n",
    "plt.title(\"Ahorros del primer semestre\")  # Configuramos el título\n",
    "plt.xlabel(\"Meses\")                       # Configuramos la etiqueta del eje X\n",
    "plt.ylabel(\"Cantidad en $\")               # Configuramos la etiqueta del eje Y\n",
    "plt.legend([\"Ahorros Macros\"], loc=0)          # Mostramos la leyenda\n",
    "plt.show()                                # Finalmente lo mostramos"
   ]
  },
  {
   "cell_type": "markdown",
   "id": "cd13faf6",
   "metadata": {},
   "source": [
    "En este escenario donde dibujamos un único vector de datos una leyenda no tiene mucho sentido, pero si en lugar de uno tuviéramos tres vectores representando los ahorros de tres personas la cosa cambiaría:"
   ]
  },
  {
   "cell_type": "code",
   "execution_count": null,
   "id": "29b87432",
   "metadata": {},
   "outputs": [],
   "source": [
    "plt.plot(np.random.randint(100, size=[6]))\n",
    "plt.plot(np.random.randint(100, size=[6]))\n",
    "plt.plot(np.random.randint(100, size=[6]))\n",
    "plt.plot(np.random.randint(100, size=[6]))\n",
    "\n",
    "\n",
    "meses = ['Enero','Febrero','Marzo','Abril','Mayo','Junio']\n",
    "mapeado = range(len(meses))\n",
    "\n",
    "plt.xticks(mapeado, meses)\n",
    "plt.xlim(1, 4)\n",
    "plt.title(\"Ahorros del primer semestre\")\n",
    "plt.xlabel(\"Meses\")\n",
    "plt.ylabel(\"Cantidad en $\")\n",
    "plt.legend([\"Pedro\", \"Marta\", \"Ana\",'Johan'])\n",
    "plt.show()"
   ]
  },
  {
   "cell_type": "markdown",
   "id": "d7cc0c87",
   "metadata": {},
   "source": [
    "Esto se denomina **visualización de múltiples series**, representando cada serie una de las líneas del gráfico.\n",
    "\n",
    "## Personalización con DataFrame\n",
    "\n",
    "Por cierto, ¿podemos dibujar el mismo gráfico utilizando un `DataFrame`? Pues sí y es más fácil:"
   ]
  },
  {
   "cell_type": "code",
   "execution_count": null,
   "id": "40774cc1",
   "metadata": {},
   "outputs": [],
   "source": [
    "import pandas as pd\n",
    "\n",
    "df = pd.DataFrame(\n",
    "    data=[\n",
    "        np.random.randint(100, size=[6]), \n",
    "        np.random.randint(100, size=[6]), \n",
    "        np.random.randint(100, size=[6])],\n",
    "    index=['Daniela','Karol','Luis'], \n",
    "    columns=['Enero','Febrero','Marzo','Abril','Mayo','Junio'])\n",
    "\n",
    "df"
   ]
  },
  {
   "cell_type": "code",
   "execution_count": null,
   "id": "66397ca1",
   "metadata": {},
   "outputs": [],
   "source": [
    "# Veamos como queda...\n",
    "plt.plot(df)\n",
    "plt.show()"
   ]
  },
  {
   "cell_type": "code",
   "execution_count": null,
   "id": "ff0382e2",
   "metadata": {},
   "outputs": [],
   "source": [
    "# Intercambiamos los ejes con el dataframe transpuesto\n",
    "plt.plot(df.T)\n",
    "plt.show()"
   ]
  },
  {
   "cell_type": "code",
   "execution_count": null,
   "id": "af057d11",
   "metadata": {},
   "outputs": [],
   "source": [
    "# Resultado final utilizando un DataFrame\n",
    "plt.plot(df.T)\n",
    "# plt.xlim(1, 4)\n",
    "plt.title(\"Ahorros del primer semestre\")\n",
    "plt.xlabel(\"Meses\")\n",
    "plt.ylabel(\"Cantidad en $\")\n",
    "plt.legend(['Daniela','Karol','Luis'])\n",
    "plt.show()"
   ]
  },
  {
   "cell_type": "markdown",
   "id": "a7745a7f",
   "metadata": {},
   "source": [
    "## Gráficos ingeniosos\n",
    "\n",
    "Con esto y un poco de comprensión de listas podemos hacer otro ejemplo muy rápidamente para dibujar las tablas de multiplicar del 1 al 10:"
   ]
  },
  {
   "cell_type": "code",
   "execution_count": null,
   "id": "263b0a51",
   "metadata": {},
   "outputs": [],
   "source": [
    "# Tablas de multiplicar del 1 al 10\n",
    "for t in range(1, 11):\n",
    "    plt.plot(\n",
    "        range(1, 11),                   # Eje X\n",
    "        [t * n for n in range(1, 11)],  # Eje Y\n",
    "        label=f\"Tabla del {t}\")         # Leyenda para cada serie\n",
    "    \n",
    "plt.title('Tablas')\n",
    "plt.xlabel('Número')\n",
    "plt.ylabel('Resultado')\n",
    "plt.legend()\n",
    "plt.show()"
   ]
  }
 ],
 "metadata": {
  "kernelspec": {
   "display_name": "Python 3",
   "language": "python",
   "name": "python3"
  },
  "language_info": {
   "codemirror_mode": {
    "name": "ipython",
    "version": 3
   },
   "file_extension": ".py",
   "mimetype": "text/x-python",
   "name": "python",
   "nbconvert_exporter": "python",
   "pygments_lexer": "ipython3",
   "version": "3.13.2"
  }
 },
 "nbformat": 4,
 "nbformat_minor": 5
}
