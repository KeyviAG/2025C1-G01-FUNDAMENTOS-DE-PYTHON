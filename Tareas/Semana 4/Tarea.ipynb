{
 "cells": [
  {
   "cell_type": "markdown",
   "metadata": {
    "id": "q7R3dARlFtDY"
   },
   "source": [
    "# Segundo análisis de casos – Fundamentos de Python\n",
    "Keyvi Alvarado Guerrero\n",
    "\n",
    "## Objetivo: \n",
    "En esta tarea, practicaremos los fundamentos básicos de Python resolviendo **cuatro ejercicios** de la lista planteada. Cada solución debe detallar **entradas**, **procesos** y **salidas** para comprender mejor cómo funciona cada problema.\n",
    "\n",
    "### Formato para cada ejercicio (seleccionemos 4 ejercicios):\n",
    "#### Ejercicio X:\n",
    "- **Descripción del problema:** Incluiremos el enunciado del ejercicio.\n",
    "- **Entradas:** Detallaremos los datos que debemos ingresar.\n",
    "- **Proceso:** Explicaremos cómo resolveremos el problema (algoritmo o fórmula).\n",
    "- **Salidas:** Describiremos el resultado que veremos en pantalla al final del proceso.\n",
    "\n",
    "#### Código del ejercicio:\n",
    "- Escribiremos la solución del ejercicio en una celda de código Python.\n",
    "- Agregaremos comentarios para explicar el código y hacerlo más comprensible.\n",
    "\n",
    "### Conclusión:\n",
    "- Al final, resumiremos lo que hemos aprendido resolviendo los ejercicios.\n",
    "- Reflexionaremos sobre cómo Python nos ayuda a solucionar problemas cotidianos.\n",
    "\n",
    "## Formato de entrega del informe en PDF:\n",
    "\n",
    "Debemos exportar nuestro notebook de Jupyter a formato PDF, cumpliendo con las siguientes pautas:\n",
    "\n",
    "### Portada:\n",
    "- Título: \"Primer análisis de casos – Fundamentos de Python\".\n",
    "- Nuestro nombre completo.\n",
    "- Fecha de entrega.\n",
    "- Curso.\n",
    "\n",
    "### Cuerpo del informe:\n",
    "- **Introducción:** Explicaremos brevemente los ejercicios que hemos seleccionado.\n",
    "- **Desarrollo de cada ejercicio:**\n",
    "  - Descripción del problema.\n",
    "  - Entradas, procesos y salidas detallados.\n",
    "  - Capturas de pantalla del código y del resultado de la ejecución.\n",
    "\n",
    "### Conclusión:\n",
    "- Reflexionaremos sobre el aprendizaje y las posibles dificultades que enfrentamos durante la resolución de los ejercicios.\n",
    "\n",
    "## Lista de ejercicios (Seleccionemos 4):\n",
    "\n",
    "1. Calcular el área de un triángulo a partir de la base y altura ingresadas.\n",
    "2. Convertir una cantidad de dólares a colones.\n",
    "3. Convertir grados centígrados a Fahrenheit.\n",
    "4. Mostrar cuántos segundos tiene un lustro.\n",
    "5. Calcular el tiempo que le toma a la luz viajar del sol a Marte.\n",
    "6. Calcular cuántas vueltas da una llanta en 1 km.\n",
    "7. Calcular la longitud de la sombra de un edificio de 20 metros.\n",
    "8. Comparar si la edad ingresada por dos usuarios es la misma.\n",
    "9. Calcular cuántos meses han transcurrido desde nuestra fecha de nacimiento.\n",
    "10. Calcular el promedio de un alumno en 5 materias.\n",
    "\n",
    "## Proceso de entrega:\n",
    "1. Resolveremos 4 de los ejercicios propuestos en un notebook de.\n",
    "2. Exportaremos el notebook a PDF siguiendo el formato establecido.\n",
    "3. Subiremos el PDF y el archivo de notebook (.ipynb) a la plataforma antes de la fecha límite.\n"
   ]
  },
  {
   "cell_type": "markdown",
   "metadata": {},
   "source": [
    "# Problema #1\n",
    "\n",
    "### Convertir una cantidad de dólares a colones.\n",
    "\n",
    "## Entrada: \n",
    "Leer La cantidad de dolares\n",
    "Leer tipo cambio\n",
    "\n",
    "## Proceso:\n",
    "\n",
    "cantidad_dolares * tipo_cambio\n",
    "\n",
    "## Salida:\n",
    "\n",
    "resultado de la multiplicacion"
   ]
  },
  {
   "cell_type": "code",
   "execution_count": 16,
   "metadata": {
    "colab": {
     "base_uri": "https://localhost:8080/"
    },
    "executionInfo": {
     "elapsed": 10485,
     "status": "ok",
     "timestamp": 1712064323417,
     "user": {
      "displayName": "Andrés Mena Abarca",
      "userId": "07418092259593836578"
     },
     "user_tz": 360
    },
    "id": "n3rOsUESDeTs",
    "outputId": "1cd40ed7-f1d2-4b89-bca5-696418df0021"
   },
   "outputs": [
    {
     "name": "stdout",
     "output_type": "stream",
     "text": [
      "Calculadora de conversion\n",
      "Indique que conversion desea realizar \n",
      "La conversion de $ 40.0 a ₡ 500 = ₡ 20000.0\n",
      "La conversion de ₡ 56000 a $ 513 = $ 109.16179337231969\n"
     ]
    }
   ],
   "source": [
    "# Código solución aqui\n",
    "# Ejecicio de conversion de Dolares\n",
    "print (\"Calculadora de conversion\")\n",
    "print (\"Indique que conversion desea realizar \") \n",
    "op1 = int( input(\"1 Dolares a Colones\"))\n",
    "d1 = float(input (\"Dolares\"))\n",
    "c1 = 500\n",
    "res1 = d1 * c1\n",
    "con1 = print (f\"La conversion de $ {d1} a ₡ {c1} = ₡ {res1}\")\n",
    "op2 = int( input(\"2 Colones a dolores\"))\n",
    "c2 = int (input (\"Colones\"))\n",
    "d2 = 513\n",
    "res2 = c2 / d2\n",
    "con2 = print (f\"La conversion de ₡ {c2} a $ {d2} = $ {res2}\")\n",
    "\n"
   ]
  },
  {
   "cell_type": "markdown",
   "metadata": {},
   "source": [
    "# Problema #2\n",
    "\n",
    "### Definir problema\n",
    "### Calcular cuántos meses han transcurrido desde nuestra fecha de nacimiento.\n",
    "\n",
    "## Entrada: leer meses transcurrido\n",
    "\n",
    "## Proceso: meses transcurrido = año actual - año de nacimiento\n",
    "\n",
    "## Salida: cantidad de meses"
   ]
  },
  {
   "cell_type": "code",
   "execution_count": 26,
   "metadata": {},
   "outputs": [
    {
     "name": "stdout",
     "output_type": "stream",
     "text": [
      "La cantidad de año de sobrantes son: 49\n",
      "La cantidad de meses que han pasado desde el año 1976 al 2025: 588\n"
     ]
    }
   ],
   "source": [
    "# Código solucción aqui\n",
    "# Calculo de cuantos meses\n",
    "año_nacimiento = int(input (\"Indique su fecha de nacimiento:\"))\n",
    "año_actual = int(input(\"Indque el año actual:\"))\n",
    "sobrantes = año_actual - año_nacimiento\n",
    "años = print (f\"La cantidad de año de sobrantes son: {sobrantes}\")\n",
    "meses = 12 \n",
    "cal = sobrantes * meses\n",
    "rsl = print (f\"La cantidad de meses que han pasado desde el año {año_nacimiento} al {año_actual}: {cal}\")"
   ]
  },
  {
   "cell_type": "markdown",
   "metadata": {},
   "source": [
    "# Problema #3\n",
    "\n",
    "### Definir problema\n",
    "Calcular el tiempo que le toma a la luz viajar del sol a Marte\n",
    "\n",
    "## Entrada:\n",
    "leer distancia \n",
    "\n",
    "## Proceso:\n",
    "Division entre tiempo por distancia sobre velocidad de la luz\n",
    "\n",
    "## Salida:\n",
    "Tiempo que le toma la luz en llegar a marte"
   ]
  },
  {
   "cell_type": "code",
   "execution_count": 45,
   "metadata": {},
   "outputs": [
    {
     "name": "stdout",
     "output_type": "stream",
     "text": [
      "Distancia del sol a Marte es de: 227.900000km\n",
      "La velocidad de la luz aproximadamente es de 299.792km/s\n",
      "El resultado del tiepo en segundos: 0.7601937343224636 y el resultado del tiempo en minutos es de : 12.66989557204106 \n"
     ]
    }
   ],
   "source": [
    "# Código solucción aqui\n",
    "# Calculo de tiempo\n",
    "print (\"Distancia del sol a Marte es de: 227.900000km\")\n",
    "info1 = 227.900000\n",
    "print (\"La velocidad de la luz aproximadamente es de 299.792km/s\")\n",
    "info2 = 299.792\n",
    "tiempo = (info1 / info2)\n",
    "con1 = (tiempo / 60) * 1000\n",
    "print (f\"El resultado del tiepo en segundos: {tiempo} y el resultado del tiempo en minutos es de : {con1} \")"
   ]
  },
  {
   "cell_type": "markdown",
   "metadata": {},
   "source": [
    "# Problema #4\n",
    "\n",
    "### Definir problema\n",
    "Comparar si la edad ingresada por dos usuarios es la misma.\n",
    "\n",
    "## Entrada:\n",
    "Comparar las edades\n",
    "\n",
    "## Proceso:\n",
    "proceso de mayor, menor o igual\n",
    "\n",
    "## Salida:\n",
    "saber si tienen la misma edad"
   ]
  },
  {
   "cell_type": "code",
   "execution_count": 60,
   "metadata": {},
   "outputs": [
    {
     "name": "stdout",
     "output_type": "stream",
     "text": [
      "La edad del primer usuario es de: 55\n",
      "La edad del segundo usuario es de : 22\n",
      "El usuario con mas edad es:  True\n",
      "El usuario con menos edad es:False\n",
      "Los usuario tienen la misma edad es:False\n"
     ]
    }
   ],
   "source": [
    "# Código solucción aqui\n",
    "# Calculo de comparacion de edad\n",
    "u1 = int(input(\"Ingrese la edad del primer usuario:\"))\n",
    "print (f\"La edad del primer usuario es de: {u1}\")\n",
    "u2 = int(input(\"Ingrese la edad del segundo usuario\"))\n",
    "print (f\"La edad del segundo usuario es de : {u2}\")\n",
    "\n",
    "p1 = u1>u2\n",
    "print (\"El usuario con mas edad es: \", p1)\n",
    "\n",
    "p2 = u1<u2\n",
    "print (f\"El usuario con menos edad es:{p2}\")\n",
    "\n",
    "p3 = u1 == u2\n",
    "print (f\"Los usuario tienen la misma edad es:{p3}\")\n"
   ]
  }
 ],
 "metadata": {
  "colab": {
   "provenance": []
  },
  "kernelspec": {
   "display_name": "Python 3",
   "name": "python3"
  },
  "language_info": {
   "codemirror_mode": {
    "name": "ipython",
    "version": 3
   },
   "file_extension": ".py",
   "mimetype": "text/x-python",
   "name": "python",
   "nbconvert_exporter": "python",
   "pygments_lexer": "ipython3",
   "version": "3.13.2"
  }
 },
 "nbformat": 4,
 "nbformat_minor": 0
}
